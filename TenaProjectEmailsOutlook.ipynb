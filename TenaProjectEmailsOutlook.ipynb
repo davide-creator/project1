{
 "cells": [
  {
   "cell_type": "code",
   "execution_count": 9,
   "id": "14f08b0d-4f88-471c-af4c-468a518c158d",
   "metadata": {},
   "outputs": [
    {
     "name": "stdout",
     "output_type": "stream",
     "text": [
      "ecco\n",
      "RE: BlockDotUnity - Business Case  Hackathon H-W3B Luxembourg \n",
      "8\n"
     ]
    }
   ],
   "source": [
    "import win32com.client\n",
    "import os\n",
    "\n",
    "outlook = win32com.client.Dispatch('Outlook.Application').GetNamespace('MAPI')\n",
    "inbox = outlook.GetDefaultFolder(6) #Folder 6 is the Inbox by default\n",
    "messaggi = inbox.Items\n",
    "email = \"hackathon-web3@sia-partners.com\"\n",
    "oggetto = \"RE: BlockDotUnity - Business Case  Hackathon H-W3B Luxembourg\"\n",
    "#messaggi.Sort(\"[ReceivedTime]\", True)\n",
    "\n",
    "# Use Restrict to filter emails from a specific sender and subject\n",
    "filter_criteria = f\"[SenderEmailAddress] = '{email}'\"\n",
    "filtered_messages = messaggi.Restrict(filter_criteria)\n",
    "\n",
    "# Sort only filtered messages\n",
    "filtered_messages.Sort(\"[ReceivedTime]\", True)\n",
    "\n",
    "\n",
    "# I will now look for all the emails that were sent by a predeffined email addresse and that have a predefined Sobject\n",
    "for msg in filtered_messages: \n",
    "    print(\"ecco\")\n",
    "    if msg.Class==43: # 43 refers to the email property of a message in the inbox. Not all the things that we can find there will be emails.\n",
    "        if msg.SenderEmailType=='EX':\n",
    "            sender = msg.Sender.GetExchangeUser().PrimarySmtpAddress\n",
    "        else:\n",
    "            sender = msg.SenderEmailAddress\n",
    "        obj = msg.Subject\n",
    "        if sender == email and oggetto.strip().lower() == obj.strip().lower():\n",
    "            print(msg)\n",
    "            msg.saveAs(\"f.msg\")\n",
    "\n",
    "            print(8)"
   ]
  },
  {
   "cell_type": "code",
   "execution_count": null,
   "id": "b8d19e31-7ecb-45ea-8278-41adec7ec324",
   "metadata": {},
   "outputs": [],
   "source": []
  }
 ],
 "metadata": {
  "kernelspec": {
   "display_name": "Python 3 (ipykernel)",
   "language": "python",
   "name": "python3"
  },
  "language_info": {
   "codemirror_mode": {
    "name": "ipython",
    "version": 3
   },
   "file_extension": ".py",
   "mimetype": "text/x-python",
   "name": "python",
   "nbconvert_exporter": "python",
   "pygments_lexer": "ipython3",
   "version": "3.12.1"
  }
 },
 "nbformat": 4,
 "nbformat_minor": 5
}
