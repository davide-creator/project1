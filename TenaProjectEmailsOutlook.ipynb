{
 "cells": [
  {
   "cell_type": "code",
   "execution_count": 2,
   "id": "21fa90b9-8ec4-431d-be2b-310c05562527",
   "metadata": {
    "scrolled": true
   },
   "outputs": [
    {
     "name": "stdout",
     "output_type": "stream",
     "text": [
      "Requirement already satisfied: pywin32 in c:\\users\\balestra\\appdata\\local\\programs\\python\\python312\\lib\\site-packages (306)Note: you may need to restart the kernel to use updated packages.\n",
      "\n"
     ]
    }
   ],
   "source": [
    "pip install pywin32"
   ]
  },
  {
   "cell_type": "code",
   "execution_count": 50,
   "id": "00511697-26b7-48cd-b30a-cc174b8ea4a5",
   "metadata": {},
   "outputs": [
    {
     "name": "stdout",
     "output_type": "stream",
     "text": [
      "RE: BlockDotUnity - Business Case  Hackathon H-W3B Luxembourg \n",
      "9\n"
     ]
    }
   ],
   "source": [
    "import win32com.client\n",
    "import os\n",
    "\n",
    "outlook = win32com.client.Dispatch('Outlook.Application').GetNamespace('MAPI')\n",
    "inbox = outlook.GetDefaultFolder(6) #Folder 6 is the Inbox by default\n",
    "messaggi = inbox.Items\n",
    "email = \"hackathon-web3@sia-partners.com\"\n",
    "oggetto = \"RE: BlockDotUnity - Business Case  Hackathon H-W3B Luxembourg\"\n",
    "messaggi.Sort(\"[ReceivedTime]\", True)\n",
    "\n",
    "# I will now look for all the emails that were sent by a predeffined email addresse and that have a predefined Sobject\n",
    "for msg in messaggi: \n",
    "    if msg.Class==43: # 43 refers to the email property of a message in the inbox. Not all the things that we can find there will be emails.\n",
    "        if msg.SenderEmailType=='EX':\n",
    "            sender = msg.Sender.GetExchangeUser().PrimarySmtpAddress\n",
    "        else:\n",
    "            sender = msg.SenderEmailAddress\n",
    "        obj = msg.Subject\n",
    "        if sender == email and oggetto.strip().lower() == obj.strip().lower():\n",
    "            print(msg)\n",
    "            msg.saveAs(\"f.msg\")\n",
    "                    "
   ]
  },
  {
   "cell_type": "code",
   "execution_count": null,
   "id": "ac6307dc-6a93-4728-b705-8fd7217460f7",
   "metadata": {},
   "outputs": [],
   "source": []
  }
 ],
 "metadata": {
  "kernelspec": {
   "display_name": "Python 3 (ipykernel)",
   "language": "python",
   "name": "python3"
  },
  "language_info": {
   "codemirror_mode": {
    "name": "ipython",
    "version": 3
   },
   "file_extension": ".py",
   "mimetype": "text/x-python",
   "name": "python",
   "nbconvert_exporter": "python",
   "pygments_lexer": "ipython3",
   "version": "3.12.1"
  }
 },
 "nbformat": 4,
 "nbformat_minor": 5
}
